{
 "cells": [
  {
   "cell_type": "code",
   "execution_count": 1,
   "id": "f7489590-11ef-4daa-8b50-53f0325490fa",
   "metadata": {},
   "outputs": [],
   "source": [
    "import pandas as pd\n",
    "from catboost import CatBoostRegressor"
   ]
  },
  {
   "cell_type": "code",
   "execution_count": 2,
   "id": "ea2a2963-93d8-432a-ab99-cabb262b16a6",
   "metadata": {},
   "outputs": [],
   "source": [
    "df=pd.read_csv(\"https://raw.githubusercontent.com/Oscar19922017/SeriesTiempo2023/main/Servicios_Dia_Autos.csv\")"
   ]
  },
  {
   "cell_type": "code",
   "execution_count": 3,
   "id": "9ba1d6ff-71a3-4258-b666-376ef8fe4b88",
   "metadata": {},
   "outputs": [],
   "source": [
    "df=df[[\"Date\",\"ANTIOQUIA_CHOCO\"]]\n",
    "df[\"Date\"]=df[\"Date\"].apply(pd.to_datetime)\n",
    "df.rename(columns={\"ANTIOQUIA_CHOCO\":\"y\"},inplace=True)\n",
    "df=df.set_index(\"Date\")\n",
    "df[\"Fecha\"]=df.index"
   ]
  },
  {
   "cell_type": "code",
   "execution_count": 4,
   "id": "763bc3ab-c57b-4b86-8459-a861f246407b",
   "metadata": {},
   "outputs": [
    {
     "data": {
      "text/plain": [
       "(Timestamp('2017-01-01 00:00:00'), Timestamp('2022-02-28 00:00:00'))"
      ]
     },
     "execution_count": 4,
     "metadata": {},
     "output_type": "execute_result"
    }
   ],
   "source": [
    "df.Fecha.min(),df.Fecha.max()"
   ]
  },
  {
   "cell_type": "code",
   "execution_count": 5,
   "id": "f5580ed1-a2f7-4e32-91c0-f97086701aa7",
   "metadata": {},
   "outputs": [
    {
     "data": {
      "text/plain": [
       "Timestamp('2022-02-28 00:00:00')"
      ]
     },
     "execution_count": 5,
     "metadata": {},
     "output_type": "execute_result"
    }
   ],
   "source": [
    "df[\"Fecha\"][-1]"
   ]
  },
  {
   "cell_type": "code",
   "execution_count": 6,
   "id": "8fa1c1fb-9a6d-40ca-b3fc-aa36d9334b7c",
   "metadata": {},
   "outputs": [
    {
     "data": {
      "image/png": "[encoded data removed]",
      "text/plain": [
       "<Figure size 432x288 with 1 Axes>"
      ]
     },
     "metadata": {
      "needs_background": "light"
     },
     "output_type": "display_data"
    }
   ],
   "source": [
    "df.y.plot();"
   ]
  },
  {
   "cell_type": "code",
   "execution_count": 7,
   "id": "e02a0e94-80f9-43a3-b9e4-e3dc6515f3c5",
   "metadata": {},
   "outputs": [],
   "source": [
    "df['mes_del_anio'] = df['Fecha'].dt.strftime('%B')\n",
    "df['dia_de_la_semana'] = df['Fecha'].dt.strftime('%A')\n",
    "df[\"dia_mes\"]=df['Fecha'].dt.strftime('%d')"
   ]
  },
  {
   "cell_type": "code",
   "execution_count": 8,
   "id": "a19a7e7d-81ec-4f59-87a4-a5ab8a558e8a",
   "metadata": {},
   "outputs": [],
   "source": [
    "rango_fechas = pd.date_range(start=df[\"Fecha\"][-1], periods=30, freq='D')\n",
    "Pronostico=pd.DataFrame({\"Date\":rango_fechas})\n",
    "Pronostico=Pronostico.set_index(\"Date\")\n",
    "Pronostico['Fecha']=Pronostico.index\n",
    "Pronostico['mes_del_anio'] = Pronostico['Fecha'].dt.strftime('%B')\n",
    "Pronostico['dia_de_la_semana'] = Pronostico['Fecha'].dt.strftime('%A')\n",
    "Pronostico[\"dia_mes\"]=Pronostico['Fecha'].dt.strftime('%d')"
   ]
  },
  {
   "cell_type": "code",
   "execution_count": 9,
   "id": "a775c9ba-c2b2-4dcd-abeb-82d09893664b",
   "metadata": {},
   "outputs": [],
   "source": [
    "df[\"tipo\"]=\"historia\""
   ]
  },
  {
   "cell_type": "code",
   "execution_count": 10,
   "id": "9d6ba159-6812-4791-bacb-58c79f6e3325",
   "metadata": {},
   "outputs": [],
   "source": [
    "Pronostico[\"tipo\"]=\"nuevo\""
   ]
  },
  {
   "cell_type": "code",
   "execution_count": 11,
   "id": "9b5f4ca1-3885-4e0c-b443-2a0a0cc71763",
   "metadata": {},
   "outputs": [
    {
     "data": {
      "text/html": [
       "<div>\n",
       "<style scoped>\n",
       "    .dataframe tbody tr th:only-of-type {\n",
       "        vertical-align: middle;\n",
       "    }\n",
       "\n",
       "    .dataframe tbody tr th {\n",
       "        vertical-align: top;\n",
       "    }\n",
       "\n",
       "    .dataframe thead th {\n",
       "        text-align: right;\n",
       "    }\n",
       "</style>\n",
       "<table border=\"1\" class=\"dataframe\">\n",
       "  <thead>\n",
       "    <tr style=\"text-align: right;\">\n",
       "      <th></th>\n",
       "      <th>y</th>\n",
       "      <th>Fecha</th>\n",
       "      <th>mes_del_anio</th>\n",
       "      <th>dia_de_la_semana</th>\n",
       "      <th>dia_mes</th>\n",
       "      <th>tipo</th>\n",
       "    </tr>\n",
       "    <tr>\n",
       "      <th>Date</th>\n",
       "      <th></th>\n",
       "      <th></th>\n",
       "      <th></th>\n",
       "      <th></th>\n",
       "      <th></th>\n",
       "      <th></th>\n",
       "    </tr>\n",
       "  </thead>\n",
       "  <tbody>\n",
       "    <tr>\n",
       "      <th>2017-01-01</th>\n",
       "      <td>305.0</td>\n",
       "      <td>2017-01-01</td>\n",
       "      <td>January</td>\n",
       "      <td>Sunday</td>\n",
       "      <td>01</td>\n",
       "      <td>historia</td>\n",
       "    </tr>\n",
       "    <tr>\n",
       "      <th>2017-01-02</th>\n",
       "      <td>452.0</td>\n",
       "      <td>2017-01-02</td>\n",
       "      <td>January</td>\n",
       "      <td>Monday</td>\n",
       "      <td>02</td>\n",
       "      <td>historia</td>\n",
       "    </tr>\n",
       "    <tr>\n",
       "      <th>2017-01-03</th>\n",
       "      <td>406.0</td>\n",
       "      <td>2017-01-03</td>\n",
       "      <td>January</td>\n",
       "      <td>Tuesday</td>\n",
       "      <td>03</td>\n",
       "      <td>historia</td>\n",
       "    </tr>\n",
       "    <tr>\n",
       "      <th>2017-01-04</th>\n",
       "      <td>335.0</td>\n",
       "      <td>2017-01-04</td>\n",
       "      <td>January</td>\n",
       "      <td>Wednesday</td>\n",
       "      <td>04</td>\n",
       "      <td>historia</td>\n",
       "    </tr>\n",
       "    <tr>\n",
       "      <th>2017-01-05</th>\n",
       "      <td>360.0</td>\n",
       "      <td>2017-01-05</td>\n",
       "      <td>January</td>\n",
       "      <td>Thursday</td>\n",
       "      <td>05</td>\n",
       "      <td>historia</td>\n",
       "    </tr>\n",
       "    <tr>\n",
       "      <th>...</th>\n",
       "      <td>...</td>\n",
       "      <td>...</td>\n",
       "      <td>...</td>\n",
       "      <td>...</td>\n",
       "      <td>...</td>\n",
       "      <td>...</td>\n",
       "    </tr>\n",
       "    <tr>\n",
       "      <th>2022-03-25</th>\n",
       "      <td>NaN</td>\n",
       "      <td>2022-03-25</td>\n",
       "      <td>March</td>\n",
       "      <td>Friday</td>\n",
       "      <td>25</td>\n",
       "      <td>nuevo</td>\n",
       "    </tr>\n",
       "    <tr>\n",
       "      <th>2022-03-26</th>\n",
       "      <td>NaN</td>\n",
       "      <td>2022-03-26</td>\n",
       "      <td>March</td>\n",
       "      <td>Saturday</td>\n",
       "      <td>26</td>\n",
       "      <td>nuevo</td>\n",
       "    </tr>\n",
       "    <tr>\n",
       "      <th>2022-03-27</th>\n",
       "      <td>NaN</td>\n",
       "      <td>2022-03-27</td>\n",
       "      <td>March</td>\n",
       "      <td>Sunday</td>\n",
       "      <td>27</td>\n",
       "      <td>nuevo</td>\n",
       "    </tr>\n",
       "    <tr>\n",
       "      <th>2022-03-28</th>\n",
       "      <td>NaN</td>\n",
       "      <td>2022-03-28</td>\n",
       "      <td>March</td>\n",
       "      <td>Monday</td>\n",
       "      <td>28</td>\n",
       "      <td>nuevo</td>\n",
       "    </tr>\n",
       "    <tr>\n",
       "      <th>2022-03-29</th>\n",
       "      <td>NaN</td>\n",
       "      <td>2022-03-29</td>\n",
       "      <td>March</td>\n",
       "      <td>Tuesday</td>\n",
       "      <td>29</td>\n",
       "      <td>nuevo</td>\n",
       "    </tr>\n",
       "  </tbody>\n",
       "</table>\n",
       "<p>1915 rows × 6 columns</p>\n",
       "</div>"
      ],
      "text/plain": [
       "                y      Fecha mes_del_anio dia_de_la_semana dia_mes      tipo\n",
       "Date                                                                        \n",
       "2017-01-01  305.0 2017-01-01      January           Sunday      01  historia\n",
       "2017-01-02  452.0 2017-01-02      January           Monday      02  historia\n",
       "2017-01-03  406.0 2017-01-03      January          Tuesday      03  historia\n",
       "2017-01-04  335.0 2017-01-04      January        Wednesday      04  historia\n",
       "2017-01-05  360.0 2017-01-05      January         Thursday      05  historia\n",
       "...           ...        ...          ...              ...     ...       ...\n",
       "2022-03-25    NaN 2022-03-25        March           Friday      25     nuevo\n",
       "2022-03-26    NaN 2022-03-26        March         Saturday      26     nuevo\n",
       "2022-03-27    NaN 2022-03-27        March           Sunday      27     nuevo\n",
       "2022-03-28    NaN 2022-03-28        March           Monday      28     nuevo\n",
       "2022-03-29    NaN 2022-03-29        March          Tuesday      29     nuevo\n",
       "\n",
       "[1915 rows x 6 columns]"
      ]
     },
     "execution_count": 11,
     "metadata": {},
     "output_type": "execute_result"
    }
   ],
   "source": [
    "Unirlos= pd.concat([df, Pronostico], axis=0)\n",
    "Unirlos"
   ]
  },
  {
   "cell_type": "code",
   "execution_count": 12,
   "id": "c166aeae-0738-4db0-9ee0-af6cc849615d",
   "metadata": {},
   "outputs": [
    {
     "data": {
      "text/html": [
       "<div>\n",
       "<style scoped>\n",
       "    .dataframe tbody tr th:only-of-type {\n",
       "        vertical-align: middle;\n",
       "    }\n",
       "\n",
       "    .dataframe tbody tr th {\n",
       "        vertical-align: top;\n",
       "    }\n",
       "\n",
       "    .dataframe thead th {\n",
       "        text-align: right;\n",
       "    }\n",
       "</style>\n",
       "<table border=\"1\" class=\"dataframe\">\n",
       "  <thead>\n",
       "    <tr style=\"text-align: right;\">\n",
       "      <th></th>\n",
       "      <th>tipo</th>\n",
       "      <th>y</th>\n",
       "      <th>mes_del_anio_August</th>\n",
       "      <th>mes_del_anio_December</th>\n",
       "      <th>mes_del_anio_February</th>\n",
       "      <th>mes_del_anio_January</th>\n",
       "      <th>mes_del_anio_July</th>\n",
       "      <th>mes_del_anio_June</th>\n",
       "      <th>mes_del_anio_March</th>\n",
       "      <th>mes_del_anio_May</th>\n",
       "      <th>...</th>\n",
       "      <th>dia_mes_22</th>\n",
       "      <th>dia_mes_23</th>\n",
       "      <th>dia_mes_24</th>\n",
       "      <th>dia_mes_25</th>\n",
       "      <th>dia_mes_26</th>\n",
       "      <th>dia_mes_27</th>\n",
       "      <th>dia_mes_28</th>\n",
       "      <th>dia_mes_29</th>\n",
       "      <th>dia_mes_30</th>\n",
       "      <th>dia_mes_31</th>\n",
       "    </tr>\n",
       "    <tr>\n",
       "      <th>Date</th>\n",
       "      <th></th>\n",
       "      <th></th>\n",
       "      <th></th>\n",
       "      <th></th>\n",
       "      <th></th>\n",
       "      <th></th>\n",
       "      <th></th>\n",
       "      <th></th>\n",
       "      <th></th>\n",
       "      <th></th>\n",
       "      <th></th>\n",
       "      <th></th>\n",
       "      <th></th>\n",
       "      <th></th>\n",
       "      <th></th>\n",
       "      <th></th>\n",
       "      <th></th>\n",
       "      <th></th>\n",
       "      <th></th>\n",
       "      <th></th>\n",
       "      <th></th>\n",
       "    </tr>\n",
       "  </thead>\n",
       "  <tbody>\n",
       "    <tr>\n",
       "      <th>2017-01-01</th>\n",
       "      <td>historia</td>\n",
       "      <td>305.0</td>\n",
       "      <td>0</td>\n",
       "      <td>0</td>\n",
       "      <td>0</td>\n",
       "      <td>1</td>\n",
       "      <td>0</td>\n",
       "      <td>0</td>\n",
       "      <td>0</td>\n",
       "      <td>0</td>\n",
       "      <td>...</td>\n",
       "      <td>0</td>\n",
       "      <td>0</td>\n",
       "      <td>0</td>\n",
       "      <td>0</td>\n",
       "      <td>0</td>\n",
       "      <td>0</td>\n",
       "      <td>0</td>\n",
       "      <td>0</td>\n",
       "      <td>0</td>\n",
       "      <td>0</td>\n",
       "    </tr>\n",
       "    <tr>\n",
       "      <th>2017-01-02</th>\n",
       "      <td>historia</td>\n",
       "      <td>452.0</td>\n",
       "      <td>0</td>\n",
       "      <td>0</td>\n",
       "      <td>0</td>\n",
       "      <td>1</td>\n",
       "      <td>0</td>\n",
       "      <td>0</td>\n",
       "      <td>0</td>\n",
       "      <td>0</td>\n",
       "      <td>...</td>\n",
       "      <td>0</td>\n",
       "      <td>0</td>\n",
       "      <td>0</td>\n",
       "      <td>0</td>\n",
       "      <td>0</td>\n",
       "      <td>0</td>\n",
       "      <td>0</td>\n",
       "      <td>0</td>\n",
       "      <td>0</td>\n",
       "      <td>0</td>\n",
       "    </tr>\n",
       "  </tbody>\n",
       "</table>\n",
       "<p>2 rows × 49 columns</p>\n",
       "</div>"
      ],
      "text/plain": [
       "                tipo      y  mes_del_anio_August  mes_del_anio_December  \\\n",
       "Date                                                                      \n",
       "2017-01-01  historia  305.0                    0                      0   \n",
       "2017-01-02  historia  452.0                    0                      0   \n",
       "\n",
       "            mes_del_anio_February  mes_del_anio_January  mes_del_anio_July  \\\n",
       "Date                                                                         \n",
       "2017-01-01                      0                     1                  0   \n",
       "2017-01-02                      0                     1                  0   \n",
       "\n",
       "            mes_del_anio_June  mes_del_anio_March  mes_del_anio_May  ...  \\\n",
       "Date                                                                 ...   \n",
       "2017-01-01                  0                   0                 0  ...   \n",
       "2017-01-02                  0                   0                 0  ...   \n",
       "\n",
       "            dia_mes_22  dia_mes_23  dia_mes_24  dia_mes_25  dia_mes_26  \\\n",
       "Date                                                                     \n",
       "2017-01-01           0           0           0           0           0   \n",
       "2017-01-02           0           0           0           0           0   \n",
       "\n",
       "            dia_mes_27  dia_mes_28  dia_mes_29  dia_mes_30  dia_mes_31  \n",
       "Date                                                                    \n",
       "2017-01-01           0           0           0           0           0  \n",
       "2017-01-02           0           0           0           0           0  \n",
       "\n",
       "[2 rows x 49 columns]"
      ]
     },
     "execution_count": 12,
     "metadata": {},
     "output_type": "execute_result"
    }
   ],
   "source": [
    "dummies=pd.get_dummies(Unirlos[[\"mes_del_anio\",\"dia_de_la_semana\",\"dia_mes\"]],drop_first=True)\n",
    "df2 = pd.concat([Unirlos[[\"tipo\",\"y\"]], dummies], axis=1)\n",
    "df2.head(2)"
   ]
  },
  {
   "cell_type": "code",
   "execution_count": 13,
   "id": "b61da277-b1c0-4dc4-be4b-45eae6385599",
   "metadata": {},
   "outputs": [],
   "source": [
    "x=df2[df2[\"tipo\"]==\"historia\"].drop(columns=[\"y\",\"tipo\"])\n",
    "y=df2[df2[\"tipo\"]==\"historia\"].y"
   ]
  },
  {
   "cell_type": "code",
   "execution_count": 14,
   "id": "b5c3c2c8-ed69-4243-8a53-a920b195e807",
   "metadata": {},
   "outputs": [
    {
     "name": "stdout",
     "output_type": "stream",
     "text": [
      "0:\tlearn: 212.3205536\ttotal: 52.4ms\tremaining: 8.55s\n",
      "100:\tlearn: 158.6728015\ttotal: 77.7ms\tremaining: 48.4ms\n",
      "163:\tlearn: 155.4477060\ttotal: 89.7ms\tremaining: 0us\n"
     ]
    },
    {
     "data": {
      "text/plain": [
       "<catboost.core.CatBoostRegressor at 0x7fc72350fd00>"
      ]
     },
     "execution_count": 14,
     "metadata": {},
     "output_type": "execute_result"
    }
   ],
   "source": [
    "catboost_model = CatBoostRegressor(\n",
    " depth =2,\n",
    "  l2_leaf_reg = 13,\n",
    "  loss_function =  \"RMSE\" ,\n",
    "  border_count = 254,\n",
    "  verbose = False,\n",
    "  random_strength = 0.0,\n",
    "  task_type =  \"CPU\" ,\n",
    "  n_estimators = 164,\n",
    "  random_state = 123,\n",
    "  eta = 0.25532707800586046\n",
    ")\n",
    "catboost_model.fit(x, y, verbose=100)  # verbose muestra el progreso durante el entrenamiento"
   ]
  },
  {
   "cell_type": "markdown",
   "id": "cecf9d7a-c37b-410d-a18b-3748713d943a",
   "metadata": {},
   "source": [
    "## **Pronostico**"
   ]
  },
  {
   "cell_type": "code",
   "execution_count": 20,
   "id": "7bb20fb9-6b73-47ea-9a52-7453f0b3edb2",
   "metadata": {},
   "outputs": [],
   "source": [
    "#x_nueva.head()"
   ]
  },
  {
   "cell_type": "code",
   "execution_count": 16,
   "id": "0ca2c670-ebc6-4fe8-a725-62552524139b",
   "metadata": {},
   "outputs": [],
   "source": [
    "x_nueva=df2[df2[\"tipo\"]==\"nuevo\"].drop(columns=[\"y\",\"tipo\"])"
   ]
  },
  {
   "cell_type": "code",
   "execution_count": 17,
   "id": "7d8d7eb5-fc24-4987-ae32-3d94de62a748",
   "metadata": {},
   "outputs": [],
   "source": [
    "y_pred = catboost_model.predict(x_nueva)"
   ]
  },
  {
   "cell_type": "code",
   "execution_count": 21,
   "id": "2fd1f2b9-b8c9-4c6d-9954-ea2f087fc8e0",
   "metadata": {},
   "outputs": [
    {
     "data": {
      "text/plain": [
       "array([506.7804611 , 458.82520313, 437.64553247, 456.30817901,\n",
       "       605.15522436, 779.11235555, 355.28334336, 459.00984836,\n",
       "       450.38530084, 430.99908696, 451.11164148, 598.96988652,\n",
       "       789.77725511, 363.78649166, 450.44032945, 466.08090852,\n",
       "       437.64553247, 456.30817901, 621.65151539, 786.68498007,\n",
       "       357.69869012, 452.10545551, 458.82520313, 437.64553247,\n",
       "       456.30817901, 591.29887163, 785.11372503, 357.69869012,\n",
       "       462.20866647, 458.82520313])"
      ]
     },
     "execution_count": 21,
     "metadata": {},
     "output_type": "execute_result"
    }
   ],
   "source": [
    "y_pred"
   ]
  },
  {
   "cell_type": "code",
   "execution_count": 23,
   "id": "ab8cda12-25eb-4546-be3b-9c3efaee5675",
   "metadata": {},
   "outputs": [
    {
     "name": "stderr",
     "output_type": "stream",
     "text": [
      "/var/folders/vt/2t0v0kt92gj1_bvmhn234x6ng8b83c/T/ipykernel_67646/2139051839.py:1: SettingWithCopyWarning: \n",
      "A value is trying to be set on a copy of a slice from a DataFrame\n",
      "\n",
      "See the caveats in the documentation: https://pandas.pydata.org/pandas-docs/stable/user_guide/indexing.html#returning-a-view-versus-a-copy\n",
      "  df2[\"y\"][df2[\"tipo\"]==\"nuevo\"]=y_pred\n"
     ]
    }
   ],
   "source": [
    "df2[\"y\"][df2[\"tipo\"]==\"nuevo\"]=y_pred"
   ]
  },
  {
   "cell_type": "code",
   "execution_count": 37,
   "id": "d7d11605-21a3-4530-8edf-e3172e4087a4",
   "metadata": {},
   "outputs": [
    {
     "data": {
      "image/png": "[encoded data removed]",
      "text/plain": [
       "<Figure size 432x288 with 1 Axes>"
      ]
     },
     "metadata": {
      "needs_background": "light"
     },
     "output_type": "display_data"
    }
   ],
   "source": [
    "steps=30\n",
    "df2[-steps:].y.plot();"
   ]
  },
  {
   "cell_type": "code",
   "execution_count": 47,
   "id": "2d43e67f-9635-457d-addd-17b6a87cb373",
   "metadata": {},
   "outputs": [],
   "source": [
    "df2[[\"y\",\"tipo\"]].to_excel(\"Pronostico Marzo.xlsx\")"
   ]
  },
  {
   "cell_type": "code",
   "execution_count": null,
   "id": "91cf0ef6-5ba2-4ab7-a0cd-144c270eb6b1",
   "metadata": {},
   "outputs": [],
   "source": []
  }
 ],
 "metadata": {
  "kernelspec": {
   "display_name": "Python 3 (ipykernel)",
   "language": "python",
   "name": "python3"
  },
  "language_info": {
   "codemirror_mode": {
    "name": "ipython",
    "version": 3
   },
   "file_extension": ".py",
   "mimetype": "text/x-python",
   "name": "python",
   "nbconvert_exporter": "python",
   "pygments_lexer": "ipython3",
   "version": "3.9.16"
  }
 },
 "nbformat": 4,
 "nbformat_minor": 5
}
