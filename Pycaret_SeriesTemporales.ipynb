{
 "cells": [
  {
   "cell_type": "code",
   "execution_count": 1,
   "id": "81495e73-47a7-4be2-8484-7910ec4367d8",
   "metadata": {},
   "outputs": [],
   "source": [
    "import pandas as pd\n",
    "import numpy as np\n",
    "import matplotlib.pyplot as plt\n",
    "from datetime import datetime\n",
    "import plotly.express as px\n",
    "import plotly.graph_objects as go\n",
    "import yfinance as yf\n",
    "\n",
    "import warnings\n",
    "warnings.filterwarnings('ignore')"
   ]
  },
  {
   "cell_type": "code",
   "execution_count": 2,
   "id": "f6393ef2-8a22-4521-a029-ea26b49f7d97",
   "metadata": {},
   "outputs": [
    {
     "name": "stdout",
     "output_type": "stream",
     "text": [
      "[*********************100%***********************]  1 of 1 completed\n"
     ]
    }
   ],
   "source": [
    "today = datetime.today().strftime(\"%Y-%m-%d\")\n",
    "inicio= \"2017-01-01\"\n",
    "ticker=\"GOOG\"\n",
    "df = yf.download(ticker, start=inicio, end=today)"
   ]
  },
  {
   "cell_type": "code",
   "execution_count": 3,
   "id": "6a729210-d41b-4b8e-bb0c-d7fa0d67190d",
   "metadata": {},
   "outputs": [],
   "source": [
    "y=df[\"Close\"].resample(\"M\").mean()"
   ]
  },
  {
   "cell_type": "code",
   "execution_count": 4,
   "id": "074131b1-6a63-48fd-bf14-5fd28570788a",
   "metadata": {},
   "outputs": [
    {
     "data": {
      "text/plain": [
       "Date\n",
       "2017-01-31     40.395238\n",
       "2017-02-28     40.845829\n",
       "2017-03-31     41.705565\n",
       "2017-04-30     42.202843\n",
       "2017-05-31     46.964205\n",
       "                 ...    \n",
       "2023-03-31     98.558696\n",
       "2023-04-30    106.348422\n",
       "2023-05-31    116.745682\n",
       "2023-06-30    123.228096\n",
       "2023-07-31    121.482142\n",
       "Freq: M, Name: Close, Length: 79, dtype: float64"
      ]
     },
     "execution_count": 4,
     "metadata": {},
     "output_type": "execute_result"
    }
   ],
   "source": [
    "y"
   ]
  },
  {
   "cell_type": "code",
   "execution_count": 5,
   "id": "0750baae-f872-4ac2-91f2-905763dad79f",
   "metadata": {},
   "outputs": [],
   "source": [
    "df=pd.DataFrame({\"Fecha\":y.index,\"y\":y})"
   ]
  },
  {
   "cell_type": "code",
   "execution_count": 6,
   "id": "fce8183f-9e7e-45d8-9103-0ced4a2975e9",
   "metadata": {},
   "outputs": [
    {
     "data": {
      "text/html": [
       "<div>\n",
       "<style scoped>\n",
       "    .dataframe tbody tr th:only-of-type {\n",
       "        vertical-align: middle;\n",
       "    }\n",
       "\n",
       "    .dataframe tbody tr th {\n",
       "        vertical-align: top;\n",
       "    }\n",
       "\n",
       "    .dataframe thead th {\n",
       "        text-align: right;\n",
       "    }\n",
       "</style>\n",
       "<table border=\"1\" class=\"dataframe\">\n",
       "  <thead>\n",
       "    <tr style=\"text-align: right;\">\n",
       "      <th></th>\n",
       "      <th>Fecha</th>\n",
       "      <th>y</th>\n",
       "    </tr>\n",
       "    <tr>\n",
       "      <th>Date</th>\n",
       "      <th></th>\n",
       "      <th></th>\n",
       "    </tr>\n",
       "  </thead>\n",
       "  <tbody>\n",
       "    <tr>\n",
       "      <th>2017-01-31</th>\n",
       "      <td>2017-01-31</td>\n",
       "      <td>40.395238</td>\n",
       "    </tr>\n",
       "    <tr>\n",
       "      <th>2017-02-28</th>\n",
       "      <td>2017-02-28</td>\n",
       "      <td>40.845829</td>\n",
       "    </tr>\n",
       "    <tr>\n",
       "      <th>2017-03-31</th>\n",
       "      <td>2017-03-31</td>\n",
       "      <td>41.705565</td>\n",
       "    </tr>\n",
       "    <tr>\n",
       "      <th>2017-04-30</th>\n",
       "      <td>2017-04-30</td>\n",
       "      <td>42.202843</td>\n",
       "    </tr>\n",
       "    <tr>\n",
       "      <th>2017-05-31</th>\n",
       "      <td>2017-05-31</td>\n",
       "      <td>46.964205</td>\n",
       "    </tr>\n",
       "    <tr>\n",
       "      <th>...</th>\n",
       "      <td>...</td>\n",
       "      <td>...</td>\n",
       "    </tr>\n",
       "    <tr>\n",
       "      <th>2023-03-31</th>\n",
       "      <td>2023-03-31</td>\n",
       "      <td>98.558696</td>\n",
       "    </tr>\n",
       "    <tr>\n",
       "      <th>2023-04-30</th>\n",
       "      <td>2023-04-30</td>\n",
       "      <td>106.348422</td>\n",
       "    </tr>\n",
       "    <tr>\n",
       "      <th>2023-05-31</th>\n",
       "      <td>2023-05-31</td>\n",
       "      <td>116.745682</td>\n",
       "    </tr>\n",
       "    <tr>\n",
       "      <th>2023-06-30</th>\n",
       "      <td>2023-06-30</td>\n",
       "      <td>123.228096</td>\n",
       "    </tr>\n",
       "    <tr>\n",
       "      <th>2023-07-31</th>\n",
       "      <td>2023-07-31</td>\n",
       "      <td>121.482142</td>\n",
       "    </tr>\n",
       "  </tbody>\n",
       "</table>\n",
       "<p>79 rows × 2 columns</p>\n",
       "</div>"
      ],
      "text/plain": [
       "                Fecha           y\n",
       "Date                             \n",
       "2017-01-31 2017-01-31   40.395238\n",
       "2017-02-28 2017-02-28   40.845829\n",
       "2017-03-31 2017-03-31   41.705565\n",
       "2017-04-30 2017-04-30   42.202843\n",
       "2017-05-31 2017-05-31   46.964205\n",
       "...               ...         ...\n",
       "2023-03-31 2023-03-31   98.558696\n",
       "2023-04-30 2023-04-30  106.348422\n",
       "2023-05-31 2023-05-31  116.745682\n",
       "2023-06-30 2023-06-30  123.228096\n",
       "2023-07-31 2023-07-31  121.482142\n",
       "\n",
       "[79 rows x 2 columns]"
      ]
     },
     "execution_count": 6,
     "metadata": {},
     "output_type": "execute_result"
    }
   ],
   "source": [
    "df"
   ]
  },
  {
   "cell_type": "code",
   "execution_count": 7,
   "id": "206c7b2f-893f-472a-af0c-5b335e618ab7",
   "metadata": {},
   "outputs": [],
   "source": [
    "#df[\"Fecha\"]=df.index"
   ]
  },
  {
   "cell_type": "code",
   "execution_count": 8,
   "id": "07ab5571-6aa9-4426-b41e-3457a8f585c2",
   "metadata": {},
   "outputs": [],
   "source": [
    "df1=df[[\"Fecha\",\"y\"]]"
   ]
  },
  {
   "cell_type": "code",
   "execution_count": 9,
   "id": "c2a01b5e-99e9-45d4-8ec3-8024b8692a28",
   "metadata": {},
   "outputs": [
    {
     "data": {
      "text/html": [
       "<div>\n",
       "<style scoped>\n",
       "    .dataframe tbody tr th:only-of-type {\n",
       "        vertical-align: middle;\n",
       "    }\n",
       "\n",
       "    .dataframe tbody tr th {\n",
       "        vertical-align: top;\n",
       "    }\n",
       "\n",
       "    .dataframe thead th {\n",
       "        text-align: right;\n",
       "    }\n",
       "</style>\n",
       "<table border=\"1\" class=\"dataframe\">\n",
       "  <thead>\n",
       "    <tr style=\"text-align: right;\">\n",
       "      <th></th>\n",
       "      <th>Fecha</th>\n",
       "      <th>y</th>\n",
       "    </tr>\n",
       "    <tr>\n",
       "      <th>Date</th>\n",
       "      <th></th>\n",
       "      <th></th>\n",
       "    </tr>\n",
       "  </thead>\n",
       "  <tbody>\n",
       "    <tr>\n",
       "      <th>2017-01-31</th>\n",
       "      <td>2017-01-31</td>\n",
       "      <td>40.395238</td>\n",
       "    </tr>\n",
       "    <tr>\n",
       "      <th>2017-02-28</th>\n",
       "      <td>2017-02-28</td>\n",
       "      <td>40.845829</td>\n",
       "    </tr>\n",
       "    <tr>\n",
       "      <th>2017-03-31</th>\n",
       "      <td>2017-03-31</td>\n",
       "      <td>41.705565</td>\n",
       "    </tr>\n",
       "    <tr>\n",
       "      <th>2017-04-30</th>\n",
       "      <td>2017-04-30</td>\n",
       "      <td>42.202843</td>\n",
       "    </tr>\n",
       "    <tr>\n",
       "      <th>2017-05-31</th>\n",
       "      <td>2017-05-31</td>\n",
       "      <td>46.964205</td>\n",
       "    </tr>\n",
       "    <tr>\n",
       "      <th>...</th>\n",
       "      <td>...</td>\n",
       "      <td>...</td>\n",
       "    </tr>\n",
       "    <tr>\n",
       "      <th>2023-03-31</th>\n",
       "      <td>2023-03-31</td>\n",
       "      <td>98.558696</td>\n",
       "    </tr>\n",
       "    <tr>\n",
       "      <th>2023-04-30</th>\n",
       "      <td>2023-04-30</td>\n",
       "      <td>106.348422</td>\n",
       "    </tr>\n",
       "    <tr>\n",
       "      <th>2023-05-31</th>\n",
       "      <td>2023-05-31</td>\n",
       "      <td>116.745682</td>\n",
       "    </tr>\n",
       "    <tr>\n",
       "      <th>2023-06-30</th>\n",
       "      <td>2023-06-30</td>\n",
       "      <td>123.228096</td>\n",
       "    </tr>\n",
       "    <tr>\n",
       "      <th>2023-07-31</th>\n",
       "      <td>2023-07-31</td>\n",
       "      <td>121.482142</td>\n",
       "    </tr>\n",
       "  </tbody>\n",
       "</table>\n",
       "<p>79 rows × 2 columns</p>\n",
       "</div>"
      ],
      "text/plain": [
       "                Fecha           y\n",
       "Date                             \n",
       "2017-01-31 2017-01-31   40.395238\n",
       "2017-02-28 2017-02-28   40.845829\n",
       "2017-03-31 2017-03-31   41.705565\n",
       "2017-04-30 2017-04-30   42.202843\n",
       "2017-05-31 2017-05-31   46.964205\n",
       "...               ...         ...\n",
       "2023-03-31 2023-03-31   98.558696\n",
       "2023-04-30 2023-04-30  106.348422\n",
       "2023-05-31 2023-05-31  116.745682\n",
       "2023-06-30 2023-06-30  123.228096\n",
       "2023-07-31 2023-07-31  121.482142\n",
       "\n",
       "[79 rows x 2 columns]"
      ]
     },
     "execution_count": 9,
     "metadata": {},
     "output_type": "execute_result"
    }
   ],
   "source": [
    "df1"
   ]
  },
  {
   "cell_type": "code",
   "execution_count": 10,
   "id": "cf20ae78-b952-4a96-a0b6-57e5ba6bbb44",
   "metadata": {},
   "outputs": [],
   "source": [
    "#df1['Series'] = np.arange(1,len(df1)+1)\n",
    "#df1['Month'] = [i.month for i in df1['Fecha']]\n",
    "#df1['Year'] = [i.year for i in df1['Fecha']]\n",
    "#df1.drop(columns=[\"Fecha\"],inplace=True)"
   ]
  },
  {
   "cell_type": "code",
   "execution_count": 11,
   "id": "b134f11b-df85-4f6b-a7cc-1e22347aa544",
   "metadata": {},
   "outputs": [
    {
     "data": {
      "text/html": [
       "<div>\n",
       "<style scoped>\n",
       "    .dataframe tbody tr th:only-of-type {\n",
       "        vertical-align: middle;\n",
       "    }\n",
       "\n",
       "    .dataframe tbody tr th {\n",
       "        vertical-align: top;\n",
       "    }\n",
       "\n",
       "    .dataframe thead th {\n",
       "        text-align: right;\n",
       "    }\n",
       "</style>\n",
       "<table border=\"1\" class=\"dataframe\">\n",
       "  <thead>\n",
       "    <tr style=\"text-align: right;\">\n",
       "      <th></th>\n",
       "      <th>Fecha</th>\n",
       "      <th>y</th>\n",
       "    </tr>\n",
       "    <tr>\n",
       "      <th>Date</th>\n",
       "      <th></th>\n",
       "      <th></th>\n",
       "    </tr>\n",
       "  </thead>\n",
       "  <tbody>\n",
       "    <tr>\n",
       "      <th>2017-01-31</th>\n",
       "      <td>2017-01-31</td>\n",
       "      <td>40.395238</td>\n",
       "    </tr>\n",
       "    <tr>\n",
       "      <th>2017-02-28</th>\n",
       "      <td>2017-02-28</td>\n",
       "      <td>40.845829</td>\n",
       "    </tr>\n",
       "    <tr>\n",
       "      <th>2017-03-31</th>\n",
       "      <td>2017-03-31</td>\n",
       "      <td>41.705565</td>\n",
       "    </tr>\n",
       "    <tr>\n",
       "      <th>2017-04-30</th>\n",
       "      <td>2017-04-30</td>\n",
       "      <td>42.202843</td>\n",
       "    </tr>\n",
       "    <tr>\n",
       "      <th>2017-05-31</th>\n",
       "      <td>2017-05-31</td>\n",
       "      <td>46.964205</td>\n",
       "    </tr>\n",
       "    <tr>\n",
       "      <th>...</th>\n",
       "      <td>...</td>\n",
       "      <td>...</td>\n",
       "    </tr>\n",
       "    <tr>\n",
       "      <th>2023-03-31</th>\n",
       "      <td>2023-03-31</td>\n",
       "      <td>98.558696</td>\n",
       "    </tr>\n",
       "    <tr>\n",
       "      <th>2023-04-30</th>\n",
       "      <td>2023-04-30</td>\n",
       "      <td>106.348422</td>\n",
       "    </tr>\n",
       "    <tr>\n",
       "      <th>2023-05-31</th>\n",
       "      <td>2023-05-31</td>\n",
       "      <td>116.745682</td>\n",
       "    </tr>\n",
       "    <tr>\n",
       "      <th>2023-06-30</th>\n",
       "      <td>2023-06-30</td>\n",
       "      <td>123.228096</td>\n",
       "    </tr>\n",
       "    <tr>\n",
       "      <th>2023-07-31</th>\n",
       "      <td>2023-07-31</td>\n",
       "      <td>121.482142</td>\n",
       "    </tr>\n",
       "  </tbody>\n",
       "</table>\n",
       "<p>79 rows × 2 columns</p>\n",
       "</div>"
      ],
      "text/plain": [
       "                Fecha           y\n",
       "Date                             \n",
       "2017-01-31 2017-01-31   40.395238\n",
       "2017-02-28 2017-02-28   40.845829\n",
       "2017-03-31 2017-03-31   41.705565\n",
       "2017-04-30 2017-04-30   42.202843\n",
       "2017-05-31 2017-05-31   46.964205\n",
       "...               ...         ...\n",
       "2023-03-31 2023-03-31   98.558696\n",
       "2023-04-30 2023-04-30  106.348422\n",
       "2023-05-31 2023-05-31  116.745682\n",
       "2023-06-30 2023-06-30  123.228096\n",
       "2023-07-31 2023-07-31  121.482142\n",
       "\n",
       "[79 rows x 2 columns]"
      ]
     },
     "execution_count": 11,
     "metadata": {},
     "output_type": "execute_result"
    }
   ],
   "source": [
    "df1"
   ]
  },
  {
   "cell_type": "code",
   "execution_count": 12,
   "id": "0eb75679-df00-4475-bd7d-d32f457614f9",
   "metadata": {},
   "outputs": [],
   "source": [
    "steps=5\n",
    "datos_train=df1[:-steps]\n",
    "datos_test=df1[-steps:]"
   ]
  },
  {
   "cell_type": "code",
   "execution_count": 13,
   "id": "83ecd00e-dd1b-43bc-bddf-80257c00f044",
   "metadata": {},
   "outputs": [
    {
     "data": {
      "text/plain": [
       "(74, 2)"
      ]
     },
     "execution_count": 13,
     "metadata": {},
     "output_type": "execute_result"
    }
   ],
   "source": [
    "datos_train.shape"
   ]
  },
  {
   "cell_type": "code",
   "execution_count": 14,
   "id": "09dba1ed-d9a2-41d2-b832-d7ff29585c1e",
   "metadata": {},
   "outputs": [
    {
     "data": {
      "text/plain": [
       "(5, 2)"
      ]
     },
     "execution_count": 14,
     "metadata": {},
     "output_type": "execute_result"
    }
   ],
   "source": [
    "datos_test.shape"
   ]
  },
  {
   "cell_type": "markdown",
   "id": "9f3f49e0-1467-4ecd-8e69-3694e2a8255e",
   "metadata": {},
   "source": [
    "**Configuración Pycaret**"
   ]
  },
  {
   "cell_type": "code",
   "execution_count": 15,
   "id": "c6927039-5d44-42ee-b6d5-28391531b463",
   "metadata": {},
   "outputs": [],
   "source": [
    "from pycaret.regression import *"
   ]
  },
  {
   "cell_type": "code",
   "execution_count": 16,
   "id": "2c499ea5-6f66-44a1-9154-d09f122f7afc",
   "metadata": {},
   "outputs": [
    {
     "data": {
      "text/html": [
       "<style type=\"text/css\">\n",
       "#T_5acf0_row7_col1, #T_5acf0_row12_col1 {\n",
       "  background-color: lightgreen;\n",
       "}\n",
       "</style>\n",
       "<table id=\"T_5acf0\">\n",
       "  <thead>\n",
       "    <tr>\n",
       "      <th class=\"blank level0\" >&nbsp;</th>\n",
       "      <th id=\"T_5acf0_level0_col0\" class=\"col_heading level0 col0\" >Description</th>\n",
       "      <th id=\"T_5acf0_level0_col1\" class=\"col_heading level0 col1\" >Value</th>\n",
       "    </tr>\n",
       "  </thead>\n",
       "  <tbody>\n",
       "    <tr>\n",
       "      <th id=\"T_5acf0_level0_row0\" class=\"row_heading level0 row0\" >0</th>\n",
       "      <td id=\"T_5acf0_row0_col0\" class=\"data row0 col0\" >Session id</td>\n",
       "      <td id=\"T_5acf0_row0_col1\" class=\"data row0 col1\" >123</td>\n",
       "    </tr>\n",
       "    <tr>\n",
       "      <th id=\"T_5acf0_level0_row1\" class=\"row_heading level0 row1\" >1</th>\n",
       "      <td id=\"T_5acf0_row1_col0\" class=\"data row1 col0\" >Target</td>\n",
       "      <td id=\"T_5acf0_row1_col1\" class=\"data row1 col1\" >y</td>\n",
       "    </tr>\n",
       "    <tr>\n",
       "      <th id=\"T_5acf0_level0_row2\" class=\"row_heading level0 row2\" >2</th>\n",
       "      <td id=\"T_5acf0_row2_col0\" class=\"data row2 col0\" >Target type</td>\n",
       "      <td id=\"T_5acf0_row2_col1\" class=\"data row2 col1\" >Regression</td>\n",
       "    </tr>\n",
       "    <tr>\n",
       "      <th id=\"T_5acf0_level0_row3\" class=\"row_heading level0 row3\" >3</th>\n",
       "      <td id=\"T_5acf0_row3_col0\" class=\"data row3 col0\" >Data shape</td>\n",
       "      <td id=\"T_5acf0_row3_col1\" class=\"data row3 col1\" >(79, 4)</td>\n",
       "    </tr>\n",
       "    <tr>\n",
       "      <th id=\"T_5acf0_level0_row4\" class=\"row_heading level0 row4\" >4</th>\n",
       "      <td id=\"T_5acf0_row4_col0\" class=\"data row4 col0\" >Train data shape</td>\n",
       "      <td id=\"T_5acf0_row4_col1\" class=\"data row4 col1\" >(74, 4)</td>\n",
       "    </tr>\n",
       "    <tr>\n",
       "      <th id=\"T_5acf0_level0_row5\" class=\"row_heading level0 row5\" >5</th>\n",
       "      <td id=\"T_5acf0_row5_col0\" class=\"data row5 col0\" >Test data shape</td>\n",
       "      <td id=\"T_5acf0_row5_col1\" class=\"data row5 col1\" >(5, 4)</td>\n",
       "    </tr>\n",
       "    <tr>\n",
       "      <th id=\"T_5acf0_level0_row6\" class=\"row_heading level0 row6\" >6</th>\n",
       "      <td id=\"T_5acf0_row6_col0\" class=\"data row6 col0\" >Date features</td>\n",
       "      <td id=\"T_5acf0_row6_col1\" class=\"data row6 col1\" >1</td>\n",
       "    </tr>\n",
       "    <tr>\n",
       "      <th id=\"T_5acf0_level0_row7\" class=\"row_heading level0 row7\" >7</th>\n",
       "      <td id=\"T_5acf0_row7_col0\" class=\"data row7 col0\" >Preprocess</td>\n",
       "      <td id=\"T_5acf0_row7_col1\" class=\"data row7 col1\" >True</td>\n",
       "    </tr>\n",
       "    <tr>\n",
       "      <th id=\"T_5acf0_level0_row8\" class=\"row_heading level0 row8\" >8</th>\n",
       "      <td id=\"T_5acf0_row8_col0\" class=\"data row8 col0\" >Imputation type</td>\n",
       "      <td id=\"T_5acf0_row8_col1\" class=\"data row8 col1\" >simple</td>\n",
       "    </tr>\n",
       "    <tr>\n",
       "      <th id=\"T_5acf0_level0_row9\" class=\"row_heading level0 row9\" >9</th>\n",
       "      <td id=\"T_5acf0_row9_col0\" class=\"data row9 col0\" >Numeric imputation</td>\n",
       "      <td id=\"T_5acf0_row9_col1\" class=\"data row9 col1\" >mean</td>\n",
       "    </tr>\n",
       "    <tr>\n",
       "      <th id=\"T_5acf0_level0_row10\" class=\"row_heading level0 row10\" >10</th>\n",
       "      <td id=\"T_5acf0_row10_col0\" class=\"data row10 col0\" >Categorical imputation</td>\n",
       "      <td id=\"T_5acf0_row10_col1\" class=\"data row10 col1\" >constant</td>\n",
       "    </tr>\n",
       "    <tr>\n",
       "      <th id=\"T_5acf0_level0_row11\" class=\"row_heading level0 row11\" >11</th>\n",
       "      <td id=\"T_5acf0_row11_col0\" class=\"data row11 col0\" >Low variance threshold</td>\n",
       "      <td id=\"T_5acf0_row11_col1\" class=\"data row11 col1\" >0</td>\n",
       "    </tr>\n",
       "    <tr>\n",
       "      <th id=\"T_5acf0_level0_row12\" class=\"row_heading level0 row12\" >12</th>\n",
       "      <td id=\"T_5acf0_row12_col0\" class=\"data row12 col0\" >Transform target</td>\n",
       "      <td id=\"T_5acf0_row12_col1\" class=\"data row12 col1\" >True</td>\n",
       "    </tr>\n",
       "    <tr>\n",
       "      <th id=\"T_5acf0_level0_row13\" class=\"row_heading level0 row13\" >13</th>\n",
       "      <td id=\"T_5acf0_row13_col0\" class=\"data row13 col0\" >Transform target method</td>\n",
       "      <td id=\"T_5acf0_row13_col1\" class=\"data row13 col1\" >yeo-johnson</td>\n",
       "    </tr>\n",
       "    <tr>\n",
       "      <th id=\"T_5acf0_level0_row14\" class=\"row_heading level0 row14\" >14</th>\n",
       "      <td id=\"T_5acf0_row14_col0\" class=\"data row14 col0\" >Fold Generator</td>\n",
       "      <td id=\"T_5acf0_row14_col1\" class=\"data row14 col1\" >TimeSeriesSplit</td>\n",
       "    </tr>\n",
       "    <tr>\n",
       "      <th id=\"T_5acf0_level0_row15\" class=\"row_heading level0 row15\" >15</th>\n",
       "      <td id=\"T_5acf0_row15_col0\" class=\"data row15 col0\" >Fold Number</td>\n",
       "      <td id=\"T_5acf0_row15_col1\" class=\"data row15 col1\" >3</td>\n",
       "    </tr>\n",
       "    <tr>\n",
       "      <th id=\"T_5acf0_level0_row16\" class=\"row_heading level0 row16\" >16</th>\n",
       "      <td id=\"T_5acf0_row16_col0\" class=\"data row16 col0\" >CPU Jobs</td>\n",
       "      <td id=\"T_5acf0_row16_col1\" class=\"data row16 col1\" >-1</td>\n",
       "    </tr>\n",
       "    <tr>\n",
       "      <th id=\"T_5acf0_level0_row17\" class=\"row_heading level0 row17\" >17</th>\n",
       "      <td id=\"T_5acf0_row17_col0\" class=\"data row17 col0\" >Use GPU</td>\n",
       "      <td id=\"T_5acf0_row17_col1\" class=\"data row17 col1\" >False</td>\n",
       "    </tr>\n",
       "    <tr>\n",
       "      <th id=\"T_5acf0_level0_row18\" class=\"row_heading level0 row18\" >18</th>\n",
       "      <td id=\"T_5acf0_row18_col0\" class=\"data row18 col0\" >Log Experiment</td>\n",
       "      <td id=\"T_5acf0_row18_col1\" class=\"data row18 col1\" >False</td>\n",
       "    </tr>\n",
       "    <tr>\n",
       "      <th id=\"T_5acf0_level0_row19\" class=\"row_heading level0 row19\" >19</th>\n",
       "      <td id=\"T_5acf0_row19_col0\" class=\"data row19 col0\" >Experiment Name</td>\n",
       "      <td id=\"T_5acf0_row19_col1\" class=\"data row19 col1\" >reg-default-name</td>\n",
       "    </tr>\n",
       "    <tr>\n",
       "      <th id=\"T_5acf0_level0_row20\" class=\"row_heading level0 row20\" >20</th>\n",
       "      <td id=\"T_5acf0_row20_col0\" class=\"data row20 col0\" >USI</td>\n",
       "      <td id=\"T_5acf0_row20_col1\" class=\"data row20 col1\" >11c6</td>\n",
       "    </tr>\n",
       "  </tbody>\n",
       "</table>\n"
      ],
      "text/plain": [
       "<pandas.io.formats.style.Styler at 0x7f945526c3d0>"
      ]
     },
     "metadata": {},
     "output_type": "display_data"
    }
   ],
   "source": [
    "s = setup(data = datos_train, test_data = datos_test, target = 'y',fold_strategy = 'timeseries', fold = 3, transform_target = True, session_id = 123) "
   ]
  },
  {
   "cell_type": "code",
   "execution_count": 17,
   "id": "1216b403-d6ed-408e-92b6-ed32604270e8",
   "metadata": {},
   "outputs": [
    {
     "data": {
      "text/html": [],
      "text/plain": [
       "<IPython.core.display.HTML object>"
      ]
     },
     "metadata": {},
     "output_type": "display_data"
    },
    {
     "data": {
      "text/html": [
       "<style type=\"text/css\">\n",
       "</style>\n",
       "<table id=\"T_bf60e\">\n",
       "  <thead>\n",
       "  </thead>\n",
       "  <tbody>\n",
       "  </tbody>\n",
       "</table>\n"
      ],
      "text/plain": [
       "<pandas.io.formats.style.Styler at 0x7f9454c5a0a0>"
      ]
     },
     "metadata": {},
     "output_type": "display_data"
    },
    {
     "data": {
      "application/vnd.jupyter.widget-view+json": {
       "model_id": "",
       "version_major": 2,
       "version_minor": 0
      },
      "text/plain": [
       "Processing:   0%|          | 0/85 [00:00<?, ?it/s]"
      ]
     },
     "metadata": {},
     "output_type": "display_data"
    }
   ],
   "source": [
    "best = compare_models(sort = 'MAE')"
   ]
  },
  {
   "cell_type": "code",
   "execution_count": 18,
   "id": "c43e2add-2a9e-473a-8547-e6f6c844c9ca",
   "metadata": {},
   "outputs": [
    {
     "data": {
      "text/plain": [
       "[]"
      ]
     },
     "execution_count": 18,
     "metadata": {},
     "output_type": "execute_result"
    }
   ],
   "source": [
    "best "
   ]
  },
  {
   "cell_type": "code",
   "execution_count": null,
   "id": "24a4c785-473c-4e5c-91bb-b69af6d04f3c",
   "metadata": {},
   "outputs": [],
   "source": []
  }
 ],
 "metadata": {
  "kernelspec": {
   "display_name": "Python 3 (ipykernel)",
   "language": "python",
   "name": "python3"
  },
  "language_info": {
   "codemirror_mode": {
    "name": "ipython",
    "version": 3
   },
   "file_extension": ".py",
   "mimetype": "text/x-python",
   "name": "python",
   "nbconvert_exporter": "python",
   "pygments_lexer": "ipython3",
   "version": "3.9.16"
  }
 },
 "nbformat": 4,
 "nbformat_minor": 5
}
